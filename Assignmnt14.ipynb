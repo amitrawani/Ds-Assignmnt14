{
 "cells": [
  {
   "cell_type": "code",
   "execution_count": null,
   "id": "b480c5cc-18ff-4433-8109-07f526e604f7",
   "metadata": {},
   "outputs": [],
   "source": [
    "Q1. What is multithreading in python? why is it used? Name the module used to handle threads in python.\n",
    "\n",
    "Ans: The ability of a program to execute multiple threads simultaneously.\n",
    "A thread is a lightweight subprocess that can perform tasks independently while sharing the same memory space as other \n",
    "threads within the same process. Multithreading is used to achieve concurrent execution and improve the overall efficiency \n",
    "and responsiveness of a program by utilizing the available resources efficiently.\n",
    "The threading module is used to handle threads in Python. It provides a high-level interface for creating, controlling, and synchronizing threads \n",
    "in a multithreaded program."
   ]
  },
  {
   "cell_type": "code",
   "execution_count": null,
   "id": "accda1c5-fb55-4cb6-a5e0-a64132289b55",
   "metadata": {},
   "outputs": [],
   "source": [
    "Q2. Why threading module used? write the use of the following functions.\n",
    "    1.activeCount()\n",
    "    2.currentThread()\n",
    "    3. enumerate()\n",
    "\n",
    "Ans: The threading module in Python is used to handle threads and implement multithreading in a program.\n",
    "    \n",
    "    1.activeCount: This function returns the number of Thread objects currently alive and spawned. It counts both the main thread and any \n",
    "      active child threads.\n",
    "\n",
    "    2.currentThread: This function returns the currently executing Thread object. It is useful to identify the current thread within the program.\n",
    "\n",
    "    3.enumerate: This function returns a list of all currently active Thread objects. It allows you to iterate over the active threads and perform\n",
    "     operations on them."
   ]
  },
  {
   "cell_type": "code",
   "execution_count": null,
   "id": "956dcdf0-b758-4131-a0c0-4c4c578d1229",
   "metadata": {},
   "outputs": [],
   "source": [
    "Q3.Explain the following functions:\n",
    " 1. run()\n",
    " 2. start()\n",
    " 3. join()\n",
    " 4. isAlive()\n",
    "    \n",
    "Ans: run: run function is called to start the execution of a thread's activity. It should not be called directly, but instead, the start() method \n",
    "should be used, which in turn calls the run() function.\n",
    "\n",
    "start: start method starts the execution of a thread. It initializes the thread's activity and calls the run() function.\n",
    "\n",
    "join: join method blocks the execution of the calling thread until the thread on which it is called has finished executing.\n",
    "\n",
    "isAlive: isAlive method returns a boolean value indicating whether the thread is currently executing or not. It returns True if the thread is active \n",
    "and False otherwise.   \n",
    "    "
   ]
  },
  {
   "cell_type": "code",
   "execution_count": null,
   "id": "5da0e058-a449-4874-bbd4-0371cfaebbe2",
   "metadata": {},
   "outputs": [],
   "source": [
    "Q4.Write a python program to create two threads. Thread one must print the list of squares and thread\n",
    "two must print the list of cubes."
   ]
  },
  {
   "cell_type": "code",
   "execution_count": 1,
   "id": "35c978d6-695c-4398-ab48-261b4e87447c",
   "metadata": {},
   "outputs": [
    {
     "name": "stdout",
     "output_type": "stream",
     "text": [
      "1\n",
      "4\n",
      "9\n",
      "16\n",
      "25\n",
      "36\n",
      "49\n",
      "64\n",
      "81\n",
      "100\n",
      "1\n",
      "8\n",
      "27\n",
      "64\n",
      "125\n",
      "216\n",
      "343\n",
      "512\n",
      "729\n",
      "1000\n"
     ]
    }
   ],
   "source": [
    "import threading\n",
    "\n",
    "def print_squares():\n",
    "    squares = [x ** 2 for x in range(1, 11)]\n",
    "    for num in squares:\n",
    "        print(num)\n",
    "\n",
    "def print_cubes():\n",
    "    cubes = [x ** 3 for x in range(1, 11)]\n",
    "    for num in cubes:\n",
    "        print(num)\n",
    "\n",
    "thread1 = threading.Thread(target=print_squares)\n",
    "thread2 = threading.Thread(target=print_cubes)\n",
    "\n",
    "thread1.start()\n",
    "thread2.start()\n",
    "\n",
    "thread1.join()\n",
    "thread2.join()\n"
   ]
  },
  {
   "cell_type": "code",
   "execution_count": null,
   "id": "72b48ae8-7d2a-433b-9024-d1bf17f0ece8",
   "metadata": {},
   "outputs": [],
   "source": [
    "Q5.State advantages and disadvantages of multithreading.\n",
    "\n",
    "Ans: Advantages of multithreading:\n",
    "        \n",
    "1.Improved performance: Multithreading allows concurrent execution of multiple tasks, utilizing available system resources efficiently and potentially \n",
    "  speeding up the program's execution.\n",
    "\n",
    "2.Responsiveness: By separating tasks into multiple threads, a program can remain responsive even when certain operations take longer to complete.\n",
    "\n",
    "3.Resource sharing: Threads within the same process share the same memory space, allowing efficient data sharing and communication between them.\n",
    "\n",
    "4.Simplified programming: Multithreading can simplify the design and implementation of certain types of programs, such as GUI applications or server \n",
    "applications that handle multiple client requests simultaneously.\n",
    "\n",
    "Disadvantages of multithreading:\n",
    "\n",
    "Complexity: Multithreaded programs can be more challenging to design, implement, and debug compared to single-threaded programs due to potential issues\n",
    "like race conditions and deadlocks.\n",
    "\n",
    "Synchronization overhead: When multiple threads access shared resources simultaneously, careful synchronization mechanisms need to be implemented\n",
    "to avoid data corruption or unexpected results, which can add overhead and complexity to the program.\n",
    "\n",
    "Difficulty in debugging: Debugging"
   ]
  },
  {
   "cell_type": "code",
   "execution_count": null,
   "id": "cf93a683-f423-4c75-a09c-2aeaa05d014d",
   "metadata": {},
   "outputs": [],
   "source": [
    "Q6.Explain deadlocks and race conditions.\n",
    "Ans:\n",
    "    Deadlocks conditions:A deadlock is a situation where two or more threads are blocked forever, waiting for each other to release resources \n",
    "that they hold. This typically happens when multiple threads acquire locks or resources in a way that creates a circular dependency.\n"
   ]
  }
 ],
 "metadata": {
  "kernelspec": {
   "display_name": "Python 3 (ipykernel)",
   "language": "python",
   "name": "python3"
  },
  "language_info": {
   "codemirror_mode": {
    "name": "ipython",
    "version": 3
   },
   "file_extension": ".py",
   "mimetype": "text/x-python",
   "name": "python",
   "nbconvert_exporter": "python",
   "pygments_lexer": "ipython3",
   "version": "3.10.8"
  }
 },
 "nbformat": 4,
 "nbformat_minor": 5
}
